{
 "cells": [
  {
   "cell_type": "markdown",
   "metadata": {},
   "source": [
    "判断梅森素数"
   ]
  },
  {
   "cell_type": "code",
   "execution_count": 17,
   "metadata": {
    "scrolled": true
   },
   "outputs": [
    {
     "name": "stdout",
     "output_type": "stream",
     "text": [
      "2 3\n",
      "3 7\n",
      "5 31\n"
     ]
    }
   ],
   "source": [
    "def sushu(num):\n",
    "    for y in range(2,num):\n",
    "        if num%y == 0:\n",
    "            break\n",
    "    else:\n",
    "        return True\n",
    "def meisen(num):\n",
    "    for i in range(num):\n",
    "        if sushu(num) == True and num == (2**i-1):\n",
    "            print(i,num)\n",
    "for i in range(1, 32):\n",
    "    meisen(i)"
   ]
  },
  {
   "cell_type": "markdown",
   "metadata": {},
   "source": [
    "掷色子"
   ]
  },
  {
   "cell_type": "code",
   "execution_count": null,
   "metadata": {},
   "outputs": [],
   "source": []
  },
  {
   "cell_type": "markdown",
   "metadata": {},
   "source": [
    "求交点"
   ]
  },
  {
   "cell_type": "code",
   "execution_count": 21,
   "metadata": {},
   "outputs": [
    {
     "name": "stdout",
     "output_type": "stream",
     "text": [
      "请输入x1的值4\n",
      "请输入y1的值4\n",
      "请输入x2的值5\n",
      "请输入y2的值5\n",
      "请输入x3的值6\n",
      "请输入y3的值5\n",
      "请输入x4的值7\n",
      "请输入y4的值7\n",
      "两条直线的交点为： (7.0, 7.0)\n"
     ]
    }
   ],
   "source": [
    "class Linearquation(object):\n",
    "    def __init__(self,x1,y1,x2,y2,x3,y3,x4,y4):\n",
    "        self.__x1 = x1\n",
    "        self.__y1 = y1\n",
    "        self.__x2 = x2\n",
    "        self.__y2 = y2\n",
    "        self.__x3 = x3\n",
    "        self.__y3 = y3\n",
    "        self.__x4 = x4\n",
    "        self.__y4 = y4\n",
    "    def FC(self):\n",
    "        k1 = (self.__y2 - self.__y1) / (self.__x2 - self.__x1)\n",
    "        k2 = (self.__y4 - self.__y3) / (self.__x4 - self.__x3)\n",
    "        b1 = self.__y1 - k1 * self.__x1\n",
    "        b2 = self.__y3 - k2 * self.__x3\n",
    "        X = (b2 - b1) / (k1 - k2)\n",
    "        Y = k1 * X + b1\n",
    "        return X,Y\n",
    "def main():\n",
    "    x1 = int(input(\"请输入x1的值\"))\n",
    "    y1 = int(input(\"请输入y1的值\"))\n",
    "    x2 = int(input(\"请输入x2的值\"))\n",
    "    y2 = int(input(\"请输入y2的值\"))\n",
    "    x3 = int(input(\"请输入x3的值\"))\n",
    "    y3 = int(input(\"请输入y3的值\"))\n",
    "    x4 = int(input(\"请输入x4的值\"))\n",
    "    y4 = int(input(\"请输入y4的值\"))\n",
    "    Li = Linearquation(x1,y1,x2,y2,x3,y3,x4,y4)\n",
    "    \n",
    "    a = Li.FC()\n",
    "    print(\"两条直线的交点为：\",a)\n",
    "main()"
   ]
  },
  {
   "cell_type": "code",
   "execution_count": null,
   "metadata": {},
   "outputs": [],
   "source": []
  }
 ],
 "metadata": {
  "kernelspec": {
   "display_name": "Python 3",
   "language": "python",
   "name": "python3"
  },
  "language_info": {
   "codemirror_mode": {
    "name": "ipython",
    "version": 3
   },
   "file_extension": ".py",
   "mimetype": "text/x-python",
   "name": "python",
   "nbconvert_exporter": "python",
   "pygments_lexer": "ipython3",
   "version": "3.6.4"
  }
 },
 "nbformat": 4,
 "nbformat_minor": 2
}
