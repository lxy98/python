{
 "cells": [
  {
   "cell_type": "markdown",
   "metadata": {},
   "source": [
    "第一题"
   ]
  },
  {
   "cell_type": "code",
   "execution_count": 3,
   "metadata": {},
   "outputs": [
    {
     "name": "stdout",
     "output_type": "stream",
     "text": [
      "长方形面积为 10\n",
      "长方形周长为 14\n"
     ]
    }
   ],
   "source": [
    "class shape():\n",
    "    def __init__(self,w,h):\n",
    "        self.w = w\n",
    "        self.h = h\n",
    "    def area(self):\n",
    "        print('长方形面积为',(self.h*self.w))\n",
    "    def cir(self):\n",
    "        print('长方形周长为',(2*(self.h+self.w)))\n",
    "\n",
    "shape1 = shape(2,5)\n",
    "shape1.area()\n",
    "shape1.cir()  "
   ]
  },
  {
   "cell_type": "markdown",
   "metadata": {},
   "source": [
    "第二题"
   ]
  },
  {
   "cell_type": "code",
   "execution_count": null,
   "metadata": {},
   "outputs": [],
   "source": [
    "class Account(object):\n",
    "    def __init__(self,Id,blanc,rate):\n",
    "        self.__Id =Id\n",
    "        self.__blance = blance\n",
    "        self.__rate = rate\n",
    "    def Id(self):\n",
    "        return self.__Id\n",
    "    def blance(self):\n",
    "        return self.__blance\n",
    "    def annuallnterestRate(self):\n",
    "        return self.__rate\n",
    "    def getMounthlyInterestRate(self):#月利率就是年利率/12\n",
    "        monthlyInterestrate = (self.__rate/100) / 12\n",
    "        return monthlyInterestrate"
   ]
  },
  {
   "cell_type": "markdown",
   "metadata": {},
   "source": [
    "第三题"
   ]
  },
  {
   "cell_type": "code",
   "execution_count": 2,
   "metadata": {},
   "outputs": [
    {
     "name": "stdout",
     "output_type": "stream",
     "text": [
      "SLOW档\n",
      "打开\n"
     ]
    },
    {
     "data": {
      "text/plain": [
       "1"
      ]
     },
     "execution_count": 2,
     "metadata": {},
     "output_type": "execute_result"
    }
   ],
   "source": [
    "class Fan(object):\n",
    "    def __init__(self,radius,sudu,on):\n",
    "        self.__radius = radius\n",
    "        self.__sudu = sudu\n",
    "        self.__on = on\n",
    "        \n",
    "    def seed(self):\n",
    "        if self.__sudu == 1:\n",
    "            print(\"SLOW档\")\n",
    "        elif self.__sudu == 2:\n",
    "            print(\"MEDIUM档\")\n",
    "        elif self.__sudu == 3:\n",
    "            print(\"FAST档\")  \n",
    "        else:\n",
    "            print(\"没有这个档位\")\n",
    "    def On(self):\n",
    "        if self.__on == \"False\":\n",
    "            print(\"关闭\")\n",
    "        else:\n",
    "            print(\"打开\")\n",
    "    def radius(self):\n",
    "        return self.__radius\n",
    "    def Color(self,color):\n",
    "        self.__color = color\n",
    "        return self.__color\n",
    "Fan = Fan(1,1,\"Fause\")\n",
    "Fan.seed()\n",
    "Fan.On()\n",
    "Fan.radius()\n",
    "# color = Color('blue')\n",
    "# color()"
   ]
  },
  {
   "cell_type": "code",
   "execution_count": null,
   "metadata": {},
   "outputs": [],
   "source": []
  }
 ],
 "metadata": {
  "kernelspec": {
   "display_name": "Python 3",
   "language": "python",
   "name": "python3"
  },
  "language_info": {
   "codemirror_mode": {
    "name": "ipython",
    "version": 3
   },
   "file_extension": ".py",
   "mimetype": "text/x-python",
   "name": "python",
   "nbconvert_exporter": "python",
   "pygments_lexer": "ipython3",
   "version": "3.6.4"
  }
 },
 "nbformat": 4,
 "nbformat_minor": 2
}
