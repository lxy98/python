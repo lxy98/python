{
 "cells": [
  {
   "cell_type": "markdown",
   "metadata": {},
   "source": [
    "第一题"
   ]
  },
  {
   "cell_type": "code",
   "execution_count": 7,
   "metadata": {},
   "outputs": [
    {
     "name": "stdout",
     "output_type": "stream",
     "text": [
      "1\t5\t12\t22\t35\t51\t70\t92\t117\t145\t\n",
      "176\t210\t247\t287\t330\t376\t425\t477\t532\t590\t\n",
      "651\t715\t782\t852\t925\t1001\t1080\t1162\t1247\t1335\t\n",
      "1426\t1520\t1617\t1717\t1820\t1926\t2035\t2147\t2262\t2380\t\n",
      "2501\t2625\t2752\t2882\t3015\t3151\t3290\t3432\t3577\t3725\t\n",
      "3876\t4030\t4187\t4347\t4510\t4676\t4845\t5017\t5192\t5370\t\n",
      "5551\t5735\t5922\t6112\t6305\t6501\t6700\t6902\t7107\t7315\t\n",
      "7526\t7740\t7957\t8177\t8400\t8626\t8855\t9087\t9322\t9560\t\n",
      "9801\t10045\t10292\t10542\t10795\t11051\t11310\t11572\t11837\t12105\t\n",
      "12376\t12650\t12927\t13207\t13490\t13776\t14065\t14357\t14652\t14950\t\n"
     ]
    }
   ],
   "source": [
    "#五角星数（n*(3*n-1)/2），每行10个数\n",
    "def getPentagonalNumber(n):\n",
    "    count = 0\n",
    "    for n in range(1,101):\n",
    "        num = (n*(3*n-1))/2\n",
    "        print(int(num),end='\\t')\n",
    "        count +=1\n",
    "        if count % 10 == 0:\n",
    "            print(end = '\\n')\n",
    "getPentagonalNumber(6)      "
   ]
  },
  {
   "cell_type": "code",
   "execution_count": 6,
   "metadata": {},
   "outputs": [
    {
     "name": "stdout",
     "output_type": "stream",
     "text": [
      "1\t5\t12\t22\t35\t51\t70\t92\t117\t145\t\n",
      "176\t210\t247\t287\t330\t376\t425\t477\t532\t590\t\n",
      "651\t715\t782\t852\t925\t1001\t1080\t1162\t1247\t1335\t\n",
      "1426\t1520\t1617\t1717\t1820\t1926\t2035\t2147\t2262\t2380\t\n",
      "2501\t2625\t2752\t2882\t3015\t3151\t3290\t3432\t3577\t3725\t\n",
      "3876\t4030\t4187\t4347\t4510\t4676\t4845\t5017\t5192\t5370\t\n",
      "5551\t5735\t5922\t6112\t6305\t6501\t6700\t6902\t7107\t7315\t\n",
      "7526\t7740\t7957\t8177\t8400\t8626\t8855\t9087\t9322\t9560\t\n",
      "9801\t10045\t10292\t10542\t10795\t11051\t11310\t11572\t11837\t12105\t\n",
      "12376\t12650\t12927\t13207\t13490\t13776\t14065\t14357\t14652\t14950\t\n"
     ]
    }
   ],
   "source": [
    "def getPentagonalNumber(n):\n",
    "    c = int(n*(3*n-1)/2)\n",
    "    print(c,end='\\t')\n",
    "    if n % 10 == 0:\n",
    "        print()\n",
    "    \n",
    "for i in range (1,101):\n",
    "    getPentagonalNumber(i)"
   ]
  },
  {
   "cell_type": "markdown",
   "metadata": {},
   "source": [
    "第二题"
   ]
  },
  {
   "cell_type": "code",
   "execution_count": 4,
   "metadata": {},
   "outputs": [
    {
     "name": "stdout",
     "output_type": "stream",
     "text": [
      "1\n"
     ]
    }
   ],
   "source": [
    "#求一个整数各个数字的和\n",
    "def  sumDigits(n):\n",
    "    res = 0\n",
    "    while n>0:\n",
    "        res += n%10   #提取个位数\n",
    "        n = n//10     #\n",
    "    print(res)\n",
    "sumDigits(100)"
   ]
  },
  {
   "cell_type": "code",
   "execution_count": 10,
   "metadata": {},
   "outputs": [
    {
     "name": "stdout",
     "output_type": "stream",
     "text": [
      "15\n"
     ]
    }
   ],
   "source": [
    "def  sumDigits(n):\n",
    "    #将括号中的内容强制转化为字符串\n",
    "    str_ = str(n)\n",
    "    int_ = 0\n",
    "    for i in str_:\n",
    "        int_ += int(i)\n",
    "    print(int_)\n",
    "sumDigits(654)"
   ]
  },
  {
   "cell_type": "markdown",
   "metadata": {},
   "source": [
    "第三题"
   ]
  },
  {
   "cell_type": "code",
   "execution_count": 12,
   "metadata": {},
   "outputs": [
    {
     "name": "stdout",
     "output_type": "stream",
     "text": [
      "请输入第一个整数：8\n",
      "请输入第二个整数：9\n",
      "请输入第三个整数：4\n",
      "4 8 9\n",
      "None\n"
     ]
    }
   ],
   "source": [
    "def displaySortedNumbers(a,b,c):\n",
    "   \n",
    "    if a >  b > c:\n",
    "        print(c,b,a)\n",
    "    elif a > c > b:\n",
    "        print(b, c, a)\n",
    "    elif b > a > c:\n",
    "        print(c, a, b)\n",
    "    elif b > c > a:\n",
    "        print(a, c, b)\n",
    "    elif c > a > b:\n",
    "        print(b, a, c)\n",
    "    else:\n",
    "        print(a, b, c)\n",
    "if __name__ == \"__main__\":\n",
    "    a = int(input('请输入第一个整数：'))\n",
    "    b = int(input('请输入第二个整数：'))\n",
    "    c = int(input('请输入第三个整数：'))\n",
    "    print(displaySortedNumbers(a,b,c))\n"
   ]
  },
  {
   "cell_type": "code",
   "execution_count": 11,
   "metadata": {},
   "outputs": [
    {
     "name": "stdout",
     "output_type": "stream",
     "text": [
      "[4, 5, 6]\n"
     ]
    }
   ],
   "source": [
    "def displaySortedNumbers(num1,num2,num3):\n",
    "    res = [num1,num2,num3]\n",
    "    res.sort() #排序\n",
    "    print(res)\n",
    "displaySortedNumbers(5,4,6)"
   ]
  },
  {
   "cell_type": "markdown",
   "metadata": {},
   "source": [
    "第四题"
   ]
  },
  {
   "cell_type": "code",
   "execution_count": 34,
   "metadata": {},
   "outputs": [
    {
     "name": "stdout",
     "output_type": "stream",
     "text": [
      "输入investmentAmount5000\n",
      "输入monthlyInterestRate0.28\n",
      "1 年后\t 5014.02\n",
      "2 年后\t 5028.08\n",
      "3 年后\t 5042.17\n",
      "4 年后\t 5056.31\n",
      "5 年后\t 5070.48\n",
      "6 年后\t 5084.7\n",
      "7 年后\t 5098.96\n",
      "8 年后\t 5113.25\n",
      "9 年后\t 5127.59\n",
      "10 年后\t 5141.96\n",
      "11 年后\t 5156.38\n",
      "12 年后\t 5170.83\n",
      "13 年后\t 5185.33\n",
      "14 年后\t 5199.87\n",
      "15 年后\t 5214.45\n",
      "16 年后\t 5229.07\n",
      "17 年后\t 5243.73\n",
      "18 年后\t 5258.43\n",
      "19 年后\t 5273.17\n",
      "20 年后\t 5287.95\n",
      "21 年后\t 5302.78\n",
      "22 年后\t 5317.65\n",
      "23 年后\t 5332.55\n",
      "24 年后\t 5347.5\n",
      "25 年后\t 5362.5\n",
      "26 年后\t 5377.53\n",
      "27 年后\t 5392.61\n",
      "28 年后\t 5407.73\n",
      "29 年后\t 5422.89\n",
      "30 年后\t 5438.09\n"
     ]
    }
   ],
   "source": [
    "def futureInvestmentValue(investmentAmount,monthlyInterestRate,years):\n",
    "    return investmentAmount * ((1+monthlyInterestRate/1200) ** (years *12))\n",
    "def main():\n",
    "    investmentAmount = float(input('输入investmentAmount'))\n",
    "    monthlyInterestRate = float(input('输入monthlyInterestRate'))\n",
    "    year = 30\n",
    "    for i in range(year):\n",
    "        Value = futureInvestmentValue(investmentAmount,monthlyInterestRate,i+1)\n",
    "        print(i+1,'年后\\t',round(Value,2))\n",
    "main()"
   ]
  },
  {
   "cell_type": "markdown",
   "metadata": {},
   "source": [
    "第五题"
   ]
  },
  {
   "cell_type": "code",
   "execution_count": 25,
   "metadata": {},
   "outputs": [
    {
     "name": "stdout",
     "output_type": "stream",
     "text": [
      "1 2 3 4 5 6 7 8 9 : \n",
      "; < = > ? @ A B C D \n",
      "E F G H I J K L M N \n",
      "O P Q R S T U V W X \n",
      "Y Z [ \\ ] ^ _ ` a b \n",
      "c d e f g h i j k l \n",
      "m n o p q r s t u v \n",
      "w x y "
     ]
    }
   ],
   "source": [
    "def printChars(ch1,ch2,numberPerLine):\n",
    "    a = ord(ch1)\n",
    "    b = ord(ch2)\n",
    "    count = 0\n",
    "    for i in range(a,b):\n",
    "        a1 = chr(i)\n",
    "        print(a1,end = ' ')\n",
    "        count +=1\n",
    "        if count % 10 == 0:\n",
    "            print(end = '\\n')\n",
    "printChars('1','z',10)"
   ]
  },
  {
   "cell_type": "markdown",
   "metadata": {},
   "source": [
    "第六题"
   ]
  },
  {
   "cell_type": "code",
   "execution_count": 9,
   "metadata": {},
   "outputs": [
    {
     "name": "stdout",
     "output_type": "stream",
     "text": [
      "20017 年有365年\n",
      "2010 年有365年\n",
      "2011 年有365年\n",
      "2012 年有366年\n",
      "2013 年有365年\n",
      "2014 年有365年\n",
      "2015 年有365年\n",
      "2016 年有366年\n",
      "2017 年有365年\n",
      "2018 年有365年\n",
      "2019 年有365年\n",
      "2020 年有366年\n"
     ]
    }
   ],
   "source": [
    "def numberOfDaysInAYear(year):\n",
    "    if (year % 4 == 0 and year % 100 != 0) or (year % 400 == 0):\n",
    "        print(year,'年有366年')\n",
    "    else:\n",
    "        print(year,'年有365年')\n",
    "    for i in range(2010,2021) :\n",
    "        if (i % 4 == 0 and i % 100 != 0) or (i % 400 == 0):\n",
    "            print(i,'年有366年')\n",
    "        else:\n",
    "            print(i,'年有365年')\n",
    "        \n",
    "numberOfDaysInAYear(20017)"
   ]
  },
  {
   "cell_type": "markdown",
   "metadata": {},
   "source": [
    "第七题"
   ]
  },
  {
   "cell_type": "code",
   "execution_count": 30,
   "metadata": {},
   "outputs": [
    {
     "data": {
      "text/plain": [
       "1.0"
      ]
     },
     "execution_count": 30,
     "metadata": {},
     "output_type": "execute_result"
    }
   ],
   "source": [
    "import numpy as np\n",
    "def distance(x1,y1,x2,y2):\n",
    "    d = np.sqrt(pow((x1-x2),2)+pow((y1-y2),2))\n",
    "    return d\n",
    "\n",
    "distance(3,2,3,1)"
   ]
  },
  {
   "cell_type": "markdown",
   "metadata": {},
   "source": [
    "第八题"
   ]
  },
  {
   "cell_type": "code",
   "execution_count": null,
   "metadata": {},
   "outputs": [],
   "source": []
  },
  {
   "cell_type": "markdown",
   "metadata": {},
   "source": [
    "第九题"
   ]
  },
  {
   "cell_type": "code",
   "execution_count": 37,
   "metadata": {},
   "outputs": [
    {
     "name": "stdout",
     "output_type": "stream",
     "text": [
      "毫秒数为 1565103447.3005128\n",
      "Tue Aug  6 22:57:27 2019\n"
     ]
    }
   ],
   "source": [
    "import time\n",
    "def time1():\n",
    "    a = time.time()\n",
    "    print ('毫秒数为',a)\n",
    "    print(time.asctime(time.localtime(time.time())))\n",
    "time1()"
   ]
  },
  {
   "cell_type": "code",
   "execution_count": null,
   "metadata": {},
   "outputs": [],
   "source": []
  }
 ],
 "metadata": {
  "kernelspec": {
   "display_name": "Python 3",
   "language": "python",
   "name": "python3"
  },
  "language_info": {
   "codemirror_mode": {
    "name": "ipython",
    "version": 3
   },
   "file_extension": ".py",
   "mimetype": "text/x-python",
   "name": "python",
   "nbconvert_exporter": "python",
   "pygments_lexer": "ipython3",
   "version": "3.6.4"
  }
 },
 "nbformat": 4,
 "nbformat_minor": 2
}
